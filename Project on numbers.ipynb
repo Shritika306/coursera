{
 "cells": [
  {
   "cell_type": "code",
   "execution_count": 1,
   "metadata": {},
   "outputs": [],
   "source": [
    "#pi to nth digit\n",
    "import math  \n",
    "\n",
    "def num():\n",
    "    n=int(input())\n",
    "    return '%.*f' % (n, math.pi)\n"
   ]
  },
  {
   "cell_type": "code",
   "execution_count": 3,
   "metadata": {},
   "outputs": [
    {
     "name": "stdout",
     "output_type": "stream",
     "text": [
      "4\n"
     ]
    },
    {
     "data": {
      "text/plain": [
       "'3.1416'"
      ]
     },
     "execution_count": 3,
     "metadata": {},
     "output_type": "execute_result"
    }
   ],
   "source": [
    "num()"
   ]
  },
  {
   "cell_type": "code",
   "execution_count": 4,
   "metadata": {},
   "outputs": [],
   "source": [
    "#e to nth digit\n",
    "import math  \n",
    "\n",
    "def num():\n",
    "    n=int(input())\n",
    "    return '%.*f' % (n, math.e)\n"
   ]
  },
  {
   "cell_type": "code",
   "execution_count": 5,
   "metadata": {},
   "outputs": [
    {
     "name": "stdout",
     "output_type": "stream",
     "text": [
      "4\n"
     ]
    },
    {
     "data": {
      "text/plain": [
       "'2.7183'"
      ]
     },
     "execution_count": 5,
     "metadata": {},
     "output_type": "execute_result"
    }
   ],
   "source": [
    "num()\n"
   ]
  },
  {
   "cell_type": "code",
   "execution_count": 69,
   "metadata": {},
   "outputs": [
    {
     "name": "stdout",
     "output_type": "stream",
     "text": [
      "15\n",
      "0\n",
      "1\n",
      "1\n",
      "2\n",
      "3\n",
      "5\n",
      "8\n",
      "13\n",
      "21\n",
      "34\n",
      "55\n",
      "89\n",
      "144\n",
      "233\n",
      "377\n"
     ]
    }
   ],
   "source": [
    "#FIBONACCI SERIES\n",
    "def fibonacci():\n",
    "    n=int(input())\n",
    "    a=0\n",
    "    b=1\n",
    "    for _ in range(n):\n",
    "        print(a)\n",
    "        a,b=b,a+b\n",
    "\n",
    "fibonacci()        "
   ]
  },
  {
   "cell_type": "code",
   "execution_count": 53,
   "metadata": {},
   "outputs": [
    {
     "name": "stdout",
     "output_type": "stream",
     "text": [
      "15\n",
      "0\n",
      "15\n",
      "30\n",
      "45\n",
      "60\n",
      "75\n",
      "90\n",
      "105\n",
      "120\n",
      "135\n",
      "150\n"
     ]
    }
   ],
   "source": [
    "#table of the number input\n",
    "def table():\n",
    "    n=int(input())\n",
    "    for i in range(11):\n",
    "        print(n*i)\n",
    "        \n",
    "table()        "
   ]
  },
  {
   "cell_type": "code",
   "execution_count": 47,
   "metadata": {},
   "outputs": [
    {
     "name": "stdout",
     "output_type": "stream",
     "text": [
      "12\n",
      "1\n",
      "2\n",
      "3\n",
      "4\n",
      "6\n",
      "12\n"
     ]
    }
   ],
   "source": [
    "#factors of the given numbers\n",
    "def next():\n",
    "    n=int(input())  \n",
    "    for i in range(1,n+1):\n",
    "        if n%i==0:\n",
    "            print(i)\n",
    "\n",
    "next()            "
   ]
  },
  {
   "cell_type": "code",
   "execution_count": 62,
   "metadata": {},
   "outputs": [],
   "source": [
    "#prime factor\n",
    "def prime_fact():\n",
    "    num=int(input())\n",
    "    for i in range(2,num):\n",
    "    \n",
    "        # Check 'i' for factor of num \n",
    "        if(num%i==0):\n",
    "        \n",
    "            # Check 'i' for Prime \n",
    "            isPrime = 1\n",
    "            for j in range(2,i//2):  #i//2 returns integer value\n",
    "            \n",
    "                if(i%j==0):\n",
    "                \n",
    "                    isPrime = 0\n",
    "                    break\n",
    "                \n",
    "            \n",
    "\n",
    "            # If 'i' is Prime number and factor of num */\n",
    "            if(isPrime==1):\n",
    "                print(i)\n",
    "     \n",
    "         \n"
   ]
  },
  {
   "cell_type": "code",
   "execution_count": 68,
   "metadata": {},
   "outputs": [
    {
     "name": "stdout",
     "output_type": "stream",
     "text": [
      "20\n",
      "2\n",
      "4\n",
      "5\n"
     ]
    }
   ],
   "source": [
    "prime_fact()"
   ]
  },
  {
   "cell_type": "code",
   "execution_count": null,
   "metadata": {},
   "outputs": [],
   "source": []
  },
  {
   "cell_type": "code",
   "execution_count": null,
   "metadata": {},
   "outputs": [],
   "source": []
  }
 ],
 "metadata": {
  "kernelspec": {
   "display_name": "Python 3",
   "language": "python",
   "name": "python3"
  },
  "language_info": {
   "codemirror_mode": {
    "name": "ipython",
    "version": 3
   },
   "file_extension": ".py",
   "mimetype": "text/x-python",
   "name": "python",
   "nbconvert_exporter": "python",
   "pygments_lexer": "ipython3",
   "version": "3.7.3"
  }
 },
 "nbformat": 4,
 "nbformat_minor": 2
}
